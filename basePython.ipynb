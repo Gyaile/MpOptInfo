{
 "cells": [
  {
   "cell_type": "markdown",
   "id": "868186b4-2980-40cd-a061-15dd1f7fdfbe",
   "metadata": {},
   "source": [
    "# Syntaxe de base en python"
   ]
  },
  {
   "cell_type": "markdown",
   "id": "308d7ff1-3995-463c-a711-f2ea5ddd48ed",
   "metadata": {
    "jp-MarkdownHeadingCollapsed": true,
    "tags": []
   },
   "source": [
    "## Affectations, variables"
   ]
  },
  {
   "cell_type": "markdown",
   "id": "ded73f80-5fd6-4ca5-aab4-202da24e5a0f",
   "metadata": {
    "jp-MarkdownHeadingCollapsed": true,
    "tags": []
   },
   "source": [
    "Affecter une valeur à une variable se fait selon la syntaxe :\n",
    "```python\n",
    "nom = expression\n",
    "```\n",
    "L’expression est d’abord évaluée, puis sa valeur affectée à la variable dont le nom est à gauche. Si\n",
    "besoin, la variable est automatiquement créée. Pas de déclaration préalable en Python. De même,\n",
    "le type de la variable est déduit automatiquement de la valeur de l’expression.\n",
    "\n",
    "\n",
    "<div class=\"alert alert-info\" style=\"background-color: white; border: 5px solid; border-radius: 10px; padding: 10px; width: 80%; margin: auto;\">\n",
    "    <h3><b><i class=\"fa fa-info-circle\" aria-hidden=\"true\"></i>&nbsp;À retenir</h3>\n",
    "<p style=\"color: black\"> Un nom de variable ne doit contenir que des lettres de l’alphabet latin (majuscules ou minuscules), des chiffres ou le caractère underscore <mark>_</mark> sachant que le premier caractère doit être une lettre. Efforcez-vous d’utiliser des noms de variables explicites (<mark>quotient</mark> au lieu de <mark>q</mark> par exemple), de toute façon vous n’aurez pas besoin de taper les noms en entier : la touche Tabulation du clavier permettra d’autocompléter les noms des variables quand vous en aurez saisi les premiers caractères.</p>  \n",
    "</div>"
   ]
  },
  {
   "cell_type": "markdown",
   "id": "9b2ee886-0299-4235-a85e-bbb288bd047f",
   "metadata": {
    "tags": []
   },
   "source": [
    "### Exercice 1 - Deviner le résultat final\n",
    "Prévoyez la valeur de `s` à la fin de ce code, puis vérifiez votre prévision en tapant ces commandes dans la cellule ci-dessous.\n",
    "```python\n",
    "x = 10\n",
    "y = 15\n",
    "z = x + y\n",
    "x = y\n",
    "y = z\n",
    "s = x + y + z\n",
    "```\n",
    "En cas d’erreur, affihcez les valeurs finales de `x`, `y` et `z` pour localiser votre erreur."
   ]
  },
  {
   "cell_type": "code",
   "execution_count": null,
   "id": "8fd91762-84f3-473f-ab6a-7ee66ceec6e1",
   "metadata": {},
   "outputs": [],
   "source": [
    "# Exercice 1"
   ]
  },
  {
   "cell_type": "markdown",
   "id": "9bd19c52-5a53-48c1-a33e-1a4ff47df4cf",
   "metadata": {},
   "source": [
    "### Exercice 2 - Méthode de Bessel\n",
    "Dans un home cinema, on veut projeter l’image d’un objet (le film) sur un écran (au mur) par une lentille. La distance objet-écran est imposée par la disposition de la salle et vaut $D = 5$ m. La lentille de projection a pour distance focale $f' = 0,4$ m.\n",
    "Il existe deux positions de la lentille entre l’objet et l’écran telles que l’image est nette. Le grandissement (rapport entre la taille de l’objet et celle de l’image) vaut :\n",
    "<div class=\"alert alert-warning\" style=\"padding: 10px; border-radius: 10px; width: 50%; margin: auto;\">\n",
    "$$\\gamma_1 = \\frac{D + \\sqrt{D^2-4Df'}}{-D + \\sqrt{D^2-4Df'}}\\; \\text{ et }\\; \\gamma_2 = \\frac{D - \\sqrt{D^2-4Df'}}{-D + \\sqrt{D^2-4Df'}}$$\n",
    "</div>\n",
    "Calculez les deux grandissements. Vérification : leur produit doit valoir 1."
   ]
  },
  {
   "cell_type": "code",
   "execution_count": null,
   "id": "dd7eb2f0-01d2-47c8-937a-81e14bbfab33",
   "metadata": {},
   "outputs": [],
   "source": [
    "# Exercice 2"
   ]
  },
  {
   "cell_type": "markdown",
   "id": "d3e5ba36-a8e2-464e-b8df-954a6ecad53f",
   "metadata": {
    "jp-MarkdownHeadingCollapsed": true,
    "tags": []
   },
   "source": [
    "## Les fonctions"
   ]
  },
  {
   "cell_type": "markdown",
   "id": "9475f93d-f41c-47c1-8f5a-df6d05d46ea8",
   "metadata": {
    "jp-MarkdownHeadingCollapsed": true,
    "tags": []
   },
   "source": [
    " * Une fonction s’introduit par le mot clé `def` suivi du nom de la fonction, des variables entourées par un jeu de parenthèses et de `:`.\n",
    " * Les instructions sont toutes décalées de 4 espaces, on dit que le bloc d’instructions est indenté.\n",
    " * Une fonction peut renvoyer un (et un seul) objet grâce au mot clé `return`, mais elle peut aussi ne rien renvoyer si on n’utilise pas `return`. Pour renvoyer plusieurs objets, on les regroupe par exemple dans un tuple.\n",
    "<div class=\"alert alert-block alert-success\" style=\"background-color: white; border: 5px solid; border-radius: 10px ; padding: 10px; width: 80%; margin: auto;\">\n",
    "    <h3>Exemple</h3><br> \n",
    " \n",
    "    ```python\n",
    "def ma_fonction (a , b ) :\n",
    "        somme = a + b\n",
    "        return somme\n",
    "```\n",
    "     \n",
    "</div>\n",
    "\n",
    "* On utilise la fonction en donnant des valeurs aux variables entre parenthèses.\n",
    "\n",
    "<div class=\"alert alert-block alert-success\" style=\"background-color: white; border: 5px solid; border-radius: 10px ; padding: 10px; width: 80%; margin: auto;\">\n",
    "    \n",
    "  ```python\n",
    ">>> ma_fonction(5,3)\n",
    "8\n",
    "```\n",
    "     \n",
    "</div>\n",
    "\n",
    "* Une fonction peut renvoyer un (et un seul) objet grâce au mot clé `return`, mais elle peut aussi ne rien renvoyer si on n’utilise pas `return`. Pour renvoyer plusieurs objets, on les regroupe par exemple dans un tuple (entres parenthèses et séparés par une virgule).\n",
    "* Au premier return rencontré, on quitte la fonction sans lire les éventuelles instructions suivantes.\n",
    "\n",
    "<div class=\"alert alert-block alert-success\" style=\"background-color: white; border: 5px solid; border-radius: 10px ; padding: 10px; width: 80%; margin: auto;\">\n",
    "    <h3>Exemple</h3><br> \n",
    " \n",
    "  ```python\n",
    "def multiplie (a ,b) :\n",
    "    x = a * b\n",
    "    return x\n",
    "    x = a + b\n",
    "    return x\n",
    "```\n",
    "\n",
    "<br>Ne réalise que la multiplication de `a` et `b` et pas leur somme.\n",
    "</div>\n",
    "\n",
    "* Il ne faut pas hésiter à commenter ses fonctions, à préciser éventuellement le type attendu des variables et à proposer un docstring (= documentation = aide pour l’utilisateur). Celui ci est affiché à l’aide de la commande `help`.\n",
    "\n",
    "<div class=\"alert alert-block alert-success\" style=\"background-color: white; border: 5px solid; border-radius: 10px ; padding: 10px; width: 80%; margin: auto;\">\n",
    "    <h3>Exemple</h3><br> \n",
    " \n",
    "  ```python\n",
    "def mon_exemple (a , b ) :\n",
    "    \"\"\" a est un entier et b est un entier non nul \"\"\"\n",
    "    divi = a // b\n",
    "    return a - b * divi\n",
    "```\n",
    "</div>"
   ]
  },
  {
   "cell_type": "markdown",
   "id": "d58f20ce-cdf0-4e94-857c-627be2c3e71c",
   "metadata": {},
   "source": [
    "### Exercice 1 - Afficher l'aide\n",
    "Afficher l’aide de la fonction `abs` et celle de la fonction `print`."
   ]
  },
  {
   "cell_type": "code",
   "execution_count": null,
   "id": "b299b239-a142-4f6d-bfe4-26d4514b6873",
   "metadata": {},
   "outputs": [],
   "source": [
    "# Exercice 1"
   ]
  },
  {
   "cell_type": "markdown",
   "id": "d8ae01e8-3a33-4ebf-bf26-7f8d16d1d079",
   "metadata": {},
   "source": [
    "### Exercice 2 - Triangle rectangle\n",
    "Écrire une fonction qui renvoie l’hypoténuse d’un triangle rectangle dont les 2 autres côtés sont donnés en paramètres. Essayer cette fonction pour un triangle de côtés 3 et 4 et stocker le résultat dans une variable. Vérifier que le résultat est 5.\n",
    "\n",
    "Pour calculer la racine carrée d'un nombre il faut utiliser la fonction `sqrt` du module `math` que vous pouvez importer grâce à l'instruction `from math import sqrt`."
   ]
  },
  {
   "cell_type": "code",
   "execution_count": null,
   "id": "cd70443c-9c2f-4df5-9247-1e23963482b0",
   "metadata": {},
   "outputs": [],
   "source": [
    "# Exercice 2"
   ]
  },
  {
   "cell_type": "markdown",
   "id": "6cd42e01-5b33-4343-ba73-e98ddc9952e3",
   "metadata": {
    "jp-MarkdownHeadingCollapsed": true,
    "tags": []
   },
   "source": [
    "## Les boucles"
   ]
  },
  {
   "cell_type": "markdown",
   "id": "68707334-55b8-4eb8-8680-052f321e8aaa",
   "metadata": {
    "tags": []
   },
   "source": [
    "### Les boucles inconditionnelles"
   ]
  },
  {
   "cell_type": "markdown",
   "id": "dba7eeff-44ec-451f-8723-95914e3b00e4",
   "metadata": {
    "tags": []
   },
   "source": [
    "Les instructions Python pour répéter n fois un ensemble d’instructions sont\n",
    "```python\n",
    "for i in range ( n ) :\n",
    "    instruction 1 à répéter\n",
    "    instruction 2 à répéter\n",
    "    ...\n",
    "    instruction p à répéter\n",
    "suite des instructions après répétition\n",
    "```\n",
    "Cette syntaxe se traduit par «pour $i$ allant de 0 à $n-1$ faire les instructions 1 à $p$». L’indice de boucle $i$ prend successivement les valeurs $0, 1, 2\\dots, n-2, n-1$. Donc $i$ prend bien $n$ valeurs différentes."
   ]
  },
  {
   "cell_type": "markdown",
   "id": "af6a6d3e-efbb-411f-bbc1-02272e8a07f9",
   "metadata": {
    "tags": []
   },
   "source": [
    "### Exercice 1 - Suite de Héron\n",
    "Écrire une fonction `heron(n, u0)` qui renvoie le terme $u_n$ de la suite ($u_p$) définie par $u_{p+1} = \\frac 1 2 \\left(u_p + \\frac{2}{u_p}\\right)$ et $u_0$ prend la valeur `u0`.\n",
    "\n",
    "On doit trouver $heron(5,1)= 1.414213562373095$."
   ]
  },
  {
   "cell_type": "code",
   "execution_count": null,
   "id": "35120fa2-6577-4fec-84dc-374db4218716",
   "metadata": {},
   "outputs": [],
   "source": [
    "# Exercice 1"
   ]
  },
  {
   "cell_type": "markdown",
   "id": "102a24ac-0ef1-4097-9f06-b96e351acca4",
   "metadata": {},
   "source": [
    "### Exercice 2 - Suite harmonique\n",
    "Écrire une fonction `harmo(n)` qui renvoie $\\sum_{k=1}^n \\frac 1 k$ pour $n \\geqslant 1$."
   ]
  },
  {
   "cell_type": "code",
   "execution_count": null,
   "id": "7b4b7693-c94e-43d5-a929-9857ec6210e1",
   "metadata": {},
   "outputs": [],
   "source": [
    "# Exercice 2"
   ]
  },
  {
   "cell_type": "markdown",
   "id": "ad6203c8-744d-4521-9c62-cf8661329db5",
   "metadata": {},
   "source": [
    "### Boucles conditionnelles\n",
    "La syntaxe fait intervenir le mot clef `while` et une clause à valeur booléenne (typiquement un test booléen) :\n",
    "```python\n",
    "while clause:\n",
    "    ...\n",
    "    instructions\n",
    "    ...\n",
    "```\n",
    "Une cause d’erreur très classique est que la clause ne puisse jamais devenir égale à `False`, de sorte que la boucle ne s’arrêtera jamais (\"boucle infinie\")."
   ]
  },
  {
   "cell_type": "markdown",
   "id": "a6a2c5d5-b1ed-4f1a-b30d-7a5cdc4314cb",
   "metadata": {},
   "source": [
    "### Exercice 3 - Logarithme entier\n",
    "Écrire une fonction `log_entier(n)` qui renvoie l’entier `p` tel que $2p \\leqslant n < 2p+1$, sans utiliser la fonction logarithme.\n",
    "Vérifier votre résultat en important la fonction `log2` depuis la bibliothèque `math`."
   ]
  },
  {
   "cell_type": "code",
   "execution_count": null,
   "id": "05fa264f-bc24-49d6-80ce-b83581162079",
   "metadata": {},
   "outputs": [],
   "source": [
    "# Exercice 3"
   ]
  },
  {
   "cell_type": "markdown",
   "id": "bf2bf216-e35b-4694-9081-c75368ead57f",
   "metadata": {},
   "source": [
    "### Exercice 4 - Nombres parfaits\n",
    "Un nombre est dit parfait s’il est la somme de ses diviseurs, distincts de lui-même, ses diviseurs propres.\n",
    "Les deux premiers nombres parfaits sont $6 = 1 + 2 + 3$ et $28 = 1 + 2 + 4 + 7 + 14$.\n",
    "Écrire une fonction qui calcule la somme des diviseurs propres d’un entier, puis trouver les 2 nombres parfaits suivants."
   ]
  },
  {
   "cell_type": "code",
   "execution_count": null,
   "id": "59dc685c-b571-49d4-8292-73c4a79f4da0",
   "metadata": {},
   "outputs": [],
   "source": [
    "# Exercice 4"
   ]
  },
  {
   "cell_type": "markdown",
   "id": "e5c41b80-a267-4e53-bfcb-8353d0bd5485",
   "metadata": {
    "jp-MarkdownHeadingCollapsed": true,
    "tags": []
   },
   "source": [
    "## Les structures conditionnelles"
   ]
  },
  {
   "cell_type": "markdown",
   "id": "55f24e6a-47e2-456a-bf40-88913eeea174",
   "metadata": {},
   "source": [
    "### Les booléens\n",
    "Les comparaisons et tests d’égalité sont des expressions ordinaires, qui comme les expressions arithmétiques produisent un résultat. Ce résultat est l’une des deux valeurs dites booléennes, l’une représentant le vrai (notée `True`) l’autre le faux (notée `False`).\n",
    "Les opérateurs de comparaison sont :\n",
    "* le test d’égalité qui s’écrit `==` et non `=` ;\n",
    "* la différence qui s’écrit `!=` ;\n",
    "* la comparaison qui peut s’écrire : `<`, `<=`, `>` ou `>=`.\n",
    "De la même manière que l’ensemble des entiers vient avec des opérations arithmétiques, l’ensemble des booléens est associé à trois opérations booléennes permettant d’en combiner les valeurs :\n",
    "* `and` : il faut que les deux opérandes soient évalués à `True` pour que la résultat soit `True` ;\n",
    "* `or` : il faut qu’au moins un des deux opérandes soit évalué à `True` pour que le résultat soit `True` ;\n",
    "* `not` : inverse le résultat.\n",
    "Ces opérations booléennes permettent donc également de combiner plusieurs tests de comparaison et d’égalité dans une unique condition.\n",
    "<div class=\"alert alert-info\" style=\"background-color: white; border: 5px solid; border-radius: 10px; padding: 10px; width: 80%; margin: auto;\">\n",
    "    <h3><b><i class=\"fa fa-info-circle\" aria-hidden=\"true\"></i>&nbsp;À retenir</h3>\n",
    "        <p style=\"color: black\"> Lors de l’évaluation de <mark>a or b</mark> on sait que le résultat est vrai dès que <mark>a</mark> est évalué à vrai. <mark>b</mark> ne sera pas évalué dans ce cas (même si cette évaluation amènerai une erreur). De même pour <mark>a and b</mark>, si <mark>a</mark> est faux, le résultat renvoyé est <mark>False</mark> sans chercher à évaluer <mark>b</mark>. On parle d’évaluation paresseuse.</p>\n",
    "        </div>"
   ]
  },
  {
   "cell_type": "markdown",
   "id": "47b0d15d-29e2-45d0-8a29-6f76cb8aaa8a",
   "metadata": {},
   "source": [
    "### Structures conditionnelles\n",
    "La structure conditionnelle s’écrit de la manière suivante :\n",
    "* l’instruction `if` suivi d’une expression booléenne puis de :\n",
    "* un bloc d’instructions indenté, ces instructions ne seront exécutées que si l’expression booléenne est évaluée avec la valeur `True`,\n",
    "* facultatif : l’instruction `else` au même niveau que if suivi de :\n",
    "* un nouveau bloc d’instructions indenté qui sera effectué si l’expression booléenne est évalué avec la valeur `False`.\n",
    "<div class=\"alert alert-block alert-success\" style=\"background-color: white; border: 5px solid; border-radius: 10px ; padding: 10px; width: 80%; margin: auto;\">\n",
    "    <h3>Exemple</h3><br> \n",
    "  \n",
    "    ```python\n",
    "def def bac2 ( note ) :\n",
    "        if note >= 10 :\n",
    "            return \"admis\"\n",
    "        else :\n",
    "            return \"non admis\"\n",
    "```\n",
    " \n",
    "    </div>\n",
    "    \n",
    "Si il y a plus de deux cas, il faudra séparer ces différents cas avecc l'instruction `elif`.\n",
    "<div class=\"alert alert-block alert-success\" style=\"background-color: white; border: 5px solid; border-radius: 10px ; padding: 10px; width: 80%; margin: auto;\">\n",
    "    <h3>Exemple</h3><br> \n",
    "  \n",
    "   ```python\n",
    "def mentionbac(note) :\n",
    "        if note < 10 :\n",
    "            return \"non admis\"\n",
    "        elif note < 12 :\n",
    "            return \"admis sans mention\"\n",
    "        elif note < 14 :\n",
    "            return \"admis mention assez bien\"\n",
    "        elif note < 16 :\n",
    "            return \"admis mention bien\"\n",
    "        else :\n",
    "            return \"admis mention très bien\"\n",
    "```\n",
    "</div>"
   ]
  },
  {
   "cell_type": "markdown",
   "id": "286b55d4-5fa1-4aa7-a581-e7fca4cf2e84",
   "metadata": {},
   "source": [
    "### Exercice 1 - Année bissextile\n",
    "Écrire une fonction `bissextile(annee)` qui renvoie `True` ou `False` selon que l’année donnée en entrée sous forme d’un entier est ou n’est pas bissextile.\n",
    "Une année est dite bissextile si c’est un multiple de 4, sauf si c’est un multiple de 100. Toutefois si c’est un multiple de 400, alors elle est considérée comme bissextile."
   ]
  },
  {
   "cell_type": "code",
   "execution_count": null,
   "id": "0ab7e15a-b61d-4bcf-87e2-ba974ef9c0ed",
   "metadata": {},
   "outputs": [],
   "source": [
    "# Exercice 1"
   ]
  },
  {
   "cell_type": "markdown",
   "id": "6dee717f-07cd-46c3-b93a-5d820b0c6db6",
   "metadata": {},
   "source": [
    "### Exercice 2 - Équation du second degré\n",
    "Écrire une fonction `racinesReelles(a, b, c)` qui renvoie les racines réelles de l’équation du second degré $aX^2 + bX + c = 0$. La fonction devra renvoyer un triplet :\n",
    "* ($2$, $r_1$, $r_2$) si le polynôme admet deux racines réelles $r_1$ et $r_2$ ;\n",
    "* ($1$, $r$, $r$) si le polynôme admet une racine double $r$ ;\n",
    "* (0, 0, 0) si le polynôme n’admet pas de racine réelle."
   ]
  },
  {
   "cell_type": "code",
   "execution_count": null,
   "id": "de73fd80-ed21-49ee-bbdf-a4501e735ca5",
   "metadata": {},
   "outputs": [],
   "source": [
    "# Exercice 2"
   ]
  },
  {
   "cell_type": "markdown",
   "id": "1e4f44ef-c1a7-4d72-a918-7fe426bd3a5f",
   "metadata": {
    "jp-MarkdownHeadingCollapsed": true,
    "tags": []
   },
   "source": [
    "## Listes, tableaux"
   ]
  },
  {
   "cell_type": "markdown",
   "id": "462c099b-f444-44a7-b3d5-d6f47dede264",
   "metadata": {},
   "source": [
    "### Création de listes"
   ]
  },
  {
   "cell_type": "markdown",
   "id": "e52dfa56-29f5-4122-ade4-515d4fa72ff2",
   "metadata": {},
   "source": [
    "On peut créer une liste à partir de sa définition :\n",
    "```python\n",
    "L = [1,4,9,16,25,36,49]\n",
    "```\n",
    "On peut ajouter un élément en fin de liste avec la méthode `append` :\n",
    "```python\n",
    ">>> L.append(113)\n",
    ">>> L\n",
    "[1,4,9,16,25,36,49,113]\n",
    "```\n",
    "On peut aussi remplir une liste existante en changeant ses éléments un par un :\n",
    "```python\n",
    "def listeCarres(n) :\n",
    "\"\"\" Entrée : un entier n \n",
    "Sortie : la liste des carrés des entiers de 1 à n \"\"\"\n",
    "        carres = [0]* n # Création d'une liste de n zéros\n",
    "        for i in range (n) :\n",
    "            carres[i] = (i + 1)**2\n",
    "        return carres\n",
    "```"
   ]
  },
  {
   "cell_type": "markdown",
   "id": "f8f93295-a648-428c-8361-d6731f951e75",
   "metadata": {},
   "source": [
    "### Accéder à une valeur\n",
    "Comme on l'a vu juste au dessus, accéder à une valeur de la liste `L` se fait avec la syntaxe `L[i]` où `i` est l'indice variant entre 0 et $n-1$ où $n$ est la taille de la liste donnée par `len(L)`."
   ]
  },
  {
   "cell_type": "markdown",
   "id": "853d2460-eb12-4f34-a47e-c91d85d86866",
   "metadata": {},
   "source": [
    "### Exercice 1 - Moyenne des nombres d’une liste\n",
    "Construire une fonction `moyenne(L)` qui prend en argument une liste `L` d’entiers ou de flottants et renvoie la moyenne arithmétique de ses éléments.\n",
    "Appliquer cette fonction à la liste $t = [-10, 2, 23, 8, 5, 4, 1, 6, 12, 7]$."
   ]
  },
  {
   "cell_type": "code",
   "execution_count": null,
   "id": "bd43db58-12fa-44a3-868b-a517b61b83e8",
   "metadata": {},
   "outputs": [],
   "source": [
    "# Exercice 1"
   ]
  },
  {
   "cell_type": "markdown",
   "id": "778cbae8-22c6-4ba8-93f0-7e7b62636f79",
   "metadata": {},
   "source": [
    "### Extraire ou modifier des valeurs par tranche\n",
    "On va travailler avec le tableau $t = [-10, 2, 23,8, 5, 4, 1, 6, 12, 7]$.\n",
    "Pour extraire $[4, 1, 6, 12]$, La syntaxe est `t[5:9]`. L'élément correspondant au premier indice 5 est inclus alors que l'élément correspondant au dernier indice 10 est exclu.\n",
    "Si le deuxième argument est exclu alors la liste est extraite du premier indice à la fin. `t[5:]` renvoie alors $[4, 1, 6, 12,7]$.\n",
    "De même si le premier indice n'est pas présent, l'extraction se fait à partir du premier élément de la liste. Ainsi `t[:4]` renvoie la même sous-liste que `t[0:4]`.\n",
    "On peut ajouter une troisième argument, le pas, qui par défaut vaut 1. `t[0:10:2]` renvoie alors $t = [-10, 23, 5, 1, 12]$."
   ]
  },
  {
   "cell_type": "markdown",
   "id": "55107307-9df2-42a6-9c1f-5792a34ff8b2",
   "metadata": {},
   "source": [
    "### Exercice 2 - Inverser une séquence, palindrome\n",
    "Proposer une fonction `inverse(L)` qui prend en argument une séquence et la renvoie en miroir.\n",
    "Appliquée à $t = [-10, 2, 23, 8, 5, 4, 1, 6, 12, 7]$, la fonction renvoie donc $[7,12, 6, 1, 4, 5, 8, 23, 2, -10]$.\n",
    "Construire une fonction `palin(L)` qui renvoie `True` si le tableau est un palindrome, soit s’il est identique à son tableau inversé et `False` sinon."
   ]
  },
  {
   "cell_type": "code",
   "execution_count": null,
   "id": "c825b8c3-759a-4a6e-891b-c98e6572d37d",
   "metadata": {},
   "outputs": [],
   "source": [
    "# Exercice 2"
   ]
  },
  {
   "cell_type": "markdown",
   "id": "c37dc628-0359-4399-835e-84aca9936693",
   "metadata": {},
   "source": [
    "### Création d'une liste par compréhension\n",
    "Si des tableaux peuvent être donnés, ils peuvent aussi être générés, soit à partir d’une liste déjà existante. Dans l’exemple suivant on crée le tableau des carrés de chaque élément d’un tableau initial.\n",
    "```python\n",
    "L = [-10, -2, 3, 2]\n",
    "n = len ( L )\n",
    "L_carre = [0] * n\n",
    "for i in range(n):\n",
    "        L_carre[i] = L[i]**2\n",
    "```\n",
    "La méthode par compréhension s’écrit pour le cas précédent ainsi :\n",
    "```python\n",
    "L_carre2 = [val**2 for val in L]\n",
    "```\n",
    "La création de ce tableau de carrés n’a pas nécessité l’utilisation des indices de position, même s’il n’était pas interdit de les utiliser. Les valeurs `val` ont directement été extraites du tableau initial et traitées pour générer ce nouveau tableau.\n",
    "On peut ajouter une condition à la création de liste par cette méthode :\n",
    "```python\n",
    "L_carre3 = [val**2 for val in L if val > -3]\n",
    "```\n",
    "qui renverra la liste $[4, 9, 4]$."
   ]
  },
  {
   "cell_type": "markdown",
   "id": "4930062a-3281-4cb9-ad91-d43c4294de09",
   "metadata": {},
   "source": [
    "### Exercice 3 - cubes des éléments impairs\n",
    "Nous disposons de la liste $L = [3, 2, 12, 15]$. Programmer la fonction qui crée le tableau des cubes des valeurs de $L$ impaires."
   ]
  },
  {
   "cell_type": "code",
   "execution_count": null,
   "id": "4ac7b74f-a568-40f4-b41c-dc5c17419714",
   "metadata": {},
   "outputs": [],
   "source": [
    "# Exercice 3"
   ]
  },
  {
   "cell_type": "markdown",
   "id": "9b22068a-51a4-4106-8f49-9b259e76de5d",
   "metadata": {},
   "source": [
    "### Les tableaux `numpy`\n",
    "Le module `numpy` nous évite d’extraire chaque élément de la séquence pour lui appliquer la fonction souhaitée et recomposer la séquence finale. Saisir le code suivant. La première ligne charge le module `numpy` et le renomme `np` pour raccourcir la saisie. `np.array` fabrique le tableau au format spécifique `numpy`.\n",
    "```python\n",
    "import numpy as np\n",
    "L = np.array ([0, 1, 2, 3, 4])\n",
    "L_carre = L**2\n",
    "print(L_carre)\n",
    "```"
   ]
  },
  {
   "cell_type": "markdown",
   "id": "3bafe174-1bc8-4e78-b027-0f280654ac6b",
   "metadata": {},
   "source": [
    "### Exercice 4 - Tables de multiplication\n",
    "Écrire une fonction `TabMul(n,m)` qui renvoie un tableau `t` de taille $n\\times m$ tel que `t[i][j]` contienne $i \\times j$."
   ]
  },
  {
   "cell_type": "code",
   "execution_count": null,
   "id": "7cf857f5-6430-4a13-8db0-41e22729a5fa",
   "metadata": {},
   "outputs": [],
   "source": [
    "# Exercice 4"
   ]
  },
  {
   "cell_type": "markdown",
   "id": "8027d47a-8288-49a3-843d-27b2a64669a1",
   "metadata": {
    "jp-MarkdownHeadingCollapsed": true,
    "tags": []
   },
   "source": [
    "## Les graphiques"
   ]
  },
  {
   "cell_type": "markdown",
   "id": "f88521a0-4ef3-443e-a8d6-6574bc3718eb",
   "metadata": {},
   "source": [
    "C'est le module `matplotlib.pyplot` qui permet de tracer des courbes.\n",
    "```python\n",
    "import matplotlib.pyplot as plt\n",
    "```\n",
    "Pour tracer la courbe de $f(x) = 3x^2 + \\ln(x)$, on peut utiliser le module `numpy` :\n",
    "```python\n",
    "import numpy as np\n",
    "def f(x):\n",
    "    return 3*x**2 + np.log(x)\n",
    "X = np.linspace(-10,10,100) #création d'un tableau de 100 valeurs uniforméments réparties entre -10 et 10\n",
    "plt.plot(X,f(X))\n",
    "plt.show()\n",
    "```"
   ]
  },
  {
   "cell_type": "markdown",
   "id": "a8b0ca70-fea1-44fb-84c7-bc27415f6cd0",
   "metadata": {},
   "source": [
    "### Exercice 1- Tracé de courbe\n",
    "Tracer la courbe représentative d'une compression adiabatique réversible dans le diagramme de Watt. On fait subir au gaz une compression à partir de $P_0 = 10^5$ Pa et $V_0 = 10$ L jusqu'à $V_1 = 1$ L.\n",
    "Tracer sur le même graphique la compression isotherme entre $P_0$ et $P_1$. On prendra $\\gamma = 1,4$."
   ]
  },
  {
   "cell_type": "code",
   "execution_count": null,
   "id": "2bbb388f-fdea-4a5d-a6f6-ed55abc169cb",
   "metadata": {},
   "outputs": [],
   "source": [
    "# Exercice 1"
   ]
  }
 ],
 "metadata": {
  "kernelspec": {
   "display_name": "Python 3 (ipykernel)",
   "language": "python",
   "name": "python3"
  },
  "language_info": {
   "codemirror_mode": {
    "name": "ipython",
    "version": 3
   },
   "file_extension": ".py",
   "mimetype": "text/x-python",
   "name": "python",
   "nbconvert_exporter": "python",
   "pygments_lexer": "ipython3",
   "version": "3.9.2"
  }
 },
 "nbformat": 4,
 "nbformat_minor": 5
}
